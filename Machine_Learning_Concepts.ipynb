{
 "cells": [
  {
   "cell_type": "markdown",
   "metadata": {},
   "source": [
    "# Key MAchine Learning Concepts"
   ]
  },
  {
   "cell_type": "markdown",
   "metadata": {},
   "source": [
    "## Dimensionality Reduction\n",
    "\n",
    "### Feature Elimination \n",
    "    * Advantages\n",
    "    \n",
    "   - Simplicity and\n",
    "   - maintaining interpretability of variables\n",
    "   \n",
    "   * Disadvatanges\n",
    "   - Possible loss of information from the dropped variables\n",
    "   \n",
    "### Feature Extraction\n",
    "   * Advantages\n",
    "   - Generate independent Variables\n",
    "   - Retains most important information eeven if reduced dimensions are used.\n",
    "   \n",
    "   * Disadvantages\n",
    "   - Lost interpretation"
   ]
  },
  {
   "cell_type": "code",
   "execution_count": null,
   "metadata": {},
   "outputs": [],
   "source": []
  }
 ],
 "metadata": {
  "kernelspec": {
   "display_name": "Python 3",
   "language": "python",
   "name": "python3"
  },
  "language_info": {
   "codemirror_mode": {
    "name": "ipython",
    "version": 3
   },
   "file_extension": ".py",
   "mimetype": "text/x-python",
   "name": "python",
   "nbconvert_exporter": "python",
   "pygments_lexer": "ipython3",
   "version": "3.7.7"
  }
 },
 "nbformat": 4,
 "nbformat_minor": 4
}
